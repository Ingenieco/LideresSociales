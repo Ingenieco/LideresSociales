{
 "cells": [
  {
   "cell_type": "code",
   "execution_count": 73,
   "metadata": {},
   "outputs": [],
   "source": [
    "import pandas as pd\n",
    "import requests\n",
    "import pprint\n",
    "pp = pprint.PrettyPrinter(indent=4)\n",
    "\n",
    "r = requests.get('http://pacifista.co/lideres-sociales-asesinados-inicio-implementacion/')\n"
   ]
  },
  {
   "cell_type": "code",
   "execution_count": 74,
   "metadata": {},
   "outputs": [
    {
     "name": "stdout",
     "output_type": "stream",
     "text": [
      "﻿<!DOCTYPE html>\r\n",
      "<html xmlns=\"http://www.w3.org/1999/xhtml\" lang=\"es-ES\"\n",
      " xmlns:fb=\"http://ogp.me/ns/fb#\">\r\n",
      "\r\n",
      "<head>\r\n",
      "    <title>Estos son los 94 líderes sociales asesinados desde el inicio de la implementación | Pacifista</title>\n",
      "<script type=\"text/javascript\">var ajaxurl = \"http://pacifista.co/wp-admin/admin-ajax.php\"</script><!-- JM Twitter Cards by Julien Maury 9.2 -->\n",
      "<meta name=\"twitter:card\" content=\"summary_large_image\">\n",
      "<meta name=\"twitter:creator\" content=\"@pacifistacol\">\n",
      "<meta name=\"\n"
     ]
    }
   ],
   "source": [
    "# Previewing the first 500 characters of the text\n",
    "print(r.text[0:500])"
   ]
  },
  {
   "cell_type": "code",
   "execution_count": 75,
   "metadata": {},
   "outputs": [],
   "source": [
    "# Parsing the HTML using Beautiful Soup\n",
    "from bs4 import BeautifulSoup\n",
    "soup = BeautifulSoup(r.text, 'html.parser')"
   ]
  },
  {
   "cell_type": "code",
   "execution_count": 101,
   "metadata": {},
   "outputs": [
    {
     "name": "stdout",
     "output_type": "stream",
     "text": [
      "[<h1>91. Yeison Ramírez</h1>, <h1>90. Leidy Amaya</h1>, <h1><img alt=\"\" class=\"aligncenter size-medium wp-image-47876\" height=\"300\" sizes=\"(max-width: 300px) 100vw, 300px\" src=\"http://pacifista.co/wp-content/uploads/2017/02/contador_90-300x300.jpg\" srcset=\"http://pacifista.co/wp-content/uploads/2017/02/contador_90-300x300.jpg 300w, http://pacifista.co/wp-content/uploads/2017/02/contador_90-150x150.jpg 150w, http://pacifista.co/wp-content/uploads/2017/02/contador_90-768x768.jpg 768w, http://pacifista.co/wp-content/uploads/2017/02/contador_90.jpg 1006w\" width=\"300\"/></h1>, <h1>89. Carlos Jimmy Prado</h1>, <h1><img alt=\"\" class=\"aligncenter size-medium wp-image-47846\" height=\"300\" sizes=\"(max-width: 300px) 100vw, 300px\" src=\"http://pacifista.co/wp-content/uploads/2017/02/contador_89-300x300.jpg\" srcset=\"http://pacifista.co/wp-content/uploads/2017/02/contador_89-300x300.jpg 300w, http://pacifista.co/wp-content/uploads/2017/02/contador_89-150x150.jpg 150w, http://pacifista.co/wp-content/uploads/2017/02/contador_89-768x768.jpg 768w, http://pacifista.co/wp-content/uploads/2017/02/contador_89.jpg 1006w\" width=\"300\"/></h1>, <h1>88.  Gabriel Muñoz Muñoz</h1>, <h1><img alt=\"\" class=\"aligncenter size-medium wp-image-47684\" height=\"300\" sizes=\"(max-width: 300px) 100vw, 300px\" src=\"http://pacifista.co/wp-content/uploads/2017/02/contador_88-300x300.jpg\" srcset=\"http://pacifista.co/wp-content/uploads/2017/02/contador_88-300x300.jpg 300w, http://pacifista.co/wp-content/uploads/2017/02/contador_88-150x150.jpg 150w, http://pacifista.co/wp-content/uploads/2017/02/contador_88-768x768.jpg 768w, http://pacifista.co/wp-content/uploads/2017/02/contador_88.jpg 1006w\" width=\"300\"/></h1>, <h1>87. Ramón Ascue</h1>, <h1>86. Hugo Albeiro George Pérez</h1>, <h1>85. María del Carmen Moreno</h1>, <h1><strong>84. James Luis Jiménez Estrada</strong></h1>, <h1><img alt=\"\" class=\"aligncenter wp-image-46874 size-medium\" height=\"300\" sizes=\"(max-width: 300px) 100vw, 300px\" src=\"http://pacifista.co/wp-content/uploads/2017/02/contador_84-300x300.jpg\" srcset=\"http://pacifista.co/wp-content/uploads/2017/02/contador_84-300x300.jpg 300w, http://pacifista.co/wp-content/uploads/2017/02/contador_84-150x150.jpg 150w, http://pacifista.co/wp-content/uploads/2017/02/contador_84-768x768.jpg 768w, http://pacifista.co/wp-content/uploads/2017/02/contador_84.jpg 1006w\" width=\"300\"/></h1>, <h1>83. Wilson Arnuflo Quetama</h1>, <h1><img alt=\"\" class=\"aligncenter size-medium wp-image-46521\" height=\"300\" sizes=\"(max-width: 300px) 100vw, 300px\" src=\"http://pacifista.co/wp-content/uploads/2017/02/unnamed-3-300x300.jpg\" srcset=\"http://pacifista.co/wp-content/uploads/2017/02/unnamed-3-300x300.jpg 300w, http://pacifista.co/wp-content/uploads/2017/02/unnamed-3-150x150.jpg 150w, http://pacifista.co/wp-content/uploads/2017/02/unnamed-3-768x768.jpg 768w, http://pacifista.co/wp-content/uploads/2017/02/unnamed-3.jpg 1006w\" width=\"300\"/></h1>, <h1>82. Belisario Benavides Ordóñez</h1>, <h1><img alt=\"\" class=\"aligncenter size-medium wp-image-46134\" height=\"300\" sizes=\"(max-width: 300px) 100vw, 300px\" src=\"http://pacifista.co/wp-content/uploads/2017/02/contador_82-300x300.jpg\" srcset=\"http://pacifista.co/wp-content/uploads/2017/02/contador_82-300x300.jpg 300w, http://pacifista.co/wp-content/uploads/2017/02/contador_82-150x150.jpg 150w, http://pacifista.co/wp-content/uploads/2017/02/contador_82-768x768.jpg 768w, http://pacifista.co/wp-content/uploads/2017/02/contador_82.jpg 1006w\" width=\"300\"/></h1>, <h1>81. María Magdalena Cruz Rojas</h1>, <h1><img alt=\"\" class=\"aligncenter size-medium wp-image-46129\" height=\"300\" sizes=\"(max-width: 300px) 100vw, 300px\" src=\"http://pacifista.co/wp-content/uploads/2017/02/contador_81-300x300.jpg\" srcset=\"http://pacifista.co/wp-content/uploads/2017/02/contador_81-300x300.jpg 300w, http://pacifista.co/wp-content/uploads/2017/02/contador_81-150x150.jpg 150w, http://pacifista.co/wp-content/uploads/2017/02/contador_81-768x768.jpg 768w, http://pacifista.co/wp-content/uploads/2017/02/contador_81.jpg 1006w\" width=\"300\"/></h1>, <h1>80. José Herrera</h1>, <h1><img alt=\"\" class=\"aligncenter size-medium wp-image-45973\" height=\"300\" sizes=\"(max-width: 300px) 100vw, 300px\" src=\"http://pacifista.co/wp-content/uploads/2017/02/contador_80-300x300.jpg\" srcset=\"http://pacifista.co/wp-content/uploads/2017/02/contador_80-300x300.jpg 300w, http://pacifista.co/wp-content/uploads/2017/02/contador_80-150x150.jpg 150w, http://pacifista.co/wp-content/uploads/2017/02/contador_80-768x768.jpg 768w, http://pacifista.co/wp-content/uploads/2017/02/contador_80.jpg 1006w\" width=\"300\"/></h1>, <h1>79. Juan Mena</h1>, <h1>78. Tomás Barreto</h1>, <h1>77.Elkin Fabián Toro</h1>, <h1>76. Jesús Orlando Grueso Obregón</h1>, <h1><img alt=\"\" class=\"aligncenter wp-image-44496 size-medium\" height=\"300\" sizes=\"(max-width: 300px) 100vw, 300px\" src=\"http://pacifista.co/wp-content/uploads/2017/02/contador_76-300x300.jpg\" srcset=\"http://pacifista.co/wp-content/uploads/2017/02/contador_76-300x300.jpg 300w, http://pacifista.co/wp-content/uploads/2017/02/contador_76-150x150.jpg 150w, http://pacifista.co/wp-content/uploads/2017/02/contador_76-768x768.jpg 768w, http://pacifista.co/wp-content/uploads/2017/02/contador_76.jpg 1006w\" width=\"300\"/></h1>, <h1></h1>, <h1>75. Sandra Yaneth Luna</h1>, <h1><img alt=\"\" class=\"size-medium wp-image-44408 aligncenter\" height=\"300\" sizes=\"(max-width: 300px) 100vw, 300px\" src=\"http://pacifista.co/wp-content/uploads/2017/02/contador_75-300x300.jpg\" srcset=\"http://pacifista.co/wp-content/uploads/2017/02/contador_75-300x300.jpg 300w, http://pacifista.co/wp-content/uploads/2017/02/contador_75-150x150.jpg 150w, http://pacifista.co/wp-content/uploads/2017/02/contador_75-768x768.jpg 768w, http://pacifista.co/wp-content/uploads/2017/02/contador_75.jpg 1006w\" width=\"300\"/></h1>, <h1>74. Maria <strong>Yolanda Maturana</strong></h1>, <h1><img alt=\"\" class=\"aligncenter wp-image-44277 size-medium\" height=\"300\" sizes=\"(max-width: 300px) 100vw, 300px\" src=\"http://pacifista.co/wp-content/uploads/2017/02/contador_74-300x300.jpg\" srcset=\"http://pacifista.co/wp-content/uploads/2017/02/contador_74-300x300.jpg 300w, http://pacifista.co/wp-content/uploads/2017/02/contador_74-150x150.jpg 150w, http://pacifista.co/wp-content/uploads/2017/02/contador_74-768x768.jpg 768w, http://pacifista.co/wp-content/uploads/2017/02/contador_74.jpg 1006w\" width=\"300\"/></h1>, <h1>73. Nixon Mutis Sossa</h1>, <h1><img alt=\"\" class=\"aligncenter wp-image-44159 size-medium\" height=\"300\" sizes=\"(max-width: 300px) 100vw, 300px\" src=\"http://pacifista.co/wp-content/uploads/2017/02/contador_73-300x300.jpg\" srcset=\"http://pacifista.co/wp-content/uploads/2017/02/contador_73-300x300.jpg 300w, http://pacifista.co/wp-content/uploads/2017/02/contador_73-150x150.jpg 150w, http://pacifista.co/wp-content/uploads/2017/02/contador_73-768x768.jpg 768w, http://pacifista.co/wp-content/uploads/2017/02/contador_73.jpg 1006w\" width=\"300\"/></h1>, <h1>72. Temístocles Machado</h1>, <h1>71. Eleazar Tequia Bitucay</h1>, <h1>70. Fares Carabalí</h1>, <h1><img alt=\"\" class=\"aligncenter wp-image-43931 size-medium\" height=\"300\" sizes=\"(max-width: 300px) 100vw, 300px\" src=\"http://pacifista.co/wp-content/uploads/2017/02/contador_70-300x300.jpg\" srcset=\"http://pacifista.co/wp-content/uploads/2017/02/contador_70-300x300.jpg 300w, http://pacifista.co/wp-content/uploads/2017/02/contador_70-150x150.jpg 150w, http://pacifista.co/wp-content/uploads/2017/02/contador_70-768x768.jpg 768w, http://pacifista.co/wp-content/uploads/2017/02/contador_70.jpg 1006w\" width=\"300\"/></h1>, <h1>68.Víctor Manuel Morato</h1>, <h1>67. Mario Dumar Rojas</h1>, <h1><img alt=\"\" class=\"aligncenter wp-image-43618 size-medium\" height=\"300\" sizes=\"(max-width: 300px) 100vw, 300px\" src=\"http://pacifista.co/wp-content/uploads/2017/02/contador_67-300x300.jpg\" srcset=\"http://pacifista.co/wp-content/uploads/2017/02/contador_67-300x300.jpg 300w, http://pacifista.co/wp-content/uploads/2017/02/contador_67-150x150.jpg 150w, http://pacifista.co/wp-content/uploads/2017/02/contador_67-768x768.jpg 768w, http://pacifista.co/wp-content/uploads/2017/02/contador_67.jpg 1006w\" width=\"300\"/></h1>, <h1></h1>, <h1>66. Guillermo Javier Artuz</h1>, <h1><img alt=\"\" class=\"aligncenter wp-image-43308 size-medium\" height=\"300\" sizes=\"(max-width: 300px) 100vw, 300px\" src=\"http://pacifista.co/wp-content/uploads/2017/02/contador_66-300x300.jpg\" srcset=\"http://pacifista.co/wp-content/uploads/2017/02/contador_66-300x300.jpg 300w, http://pacifista.co/wp-content/uploads/2017/02/contador_66-150x150.jpg 150w, http://pacifista.co/wp-content/uploads/2017/02/contador_66-768x768.jpg 768w, http://pacifista.co/wp-content/uploads/2017/02/contador_66.jpg 1006w\" width=\"300\"/></h1>, <h1></h1>, <h1>65. Pablo Oviedo</h1>, <h1><img alt=\"\" class=\"aligncenter wp-image-43180 size-medium\" height=\"300\" sizes=\"(max-width: 300px) 100vw, 300px\" src=\"http://pacifista.co/wp-content/uploads/2017/02/contador_65-300x300.jpg\" srcset=\"http://pacifista.co/wp-content/uploads/2017/02/contador_65-300x300.jpg 300w, http://pacifista.co/wp-content/uploads/2017/02/contador_65-150x150.jpg 150w, http://pacifista.co/wp-content/uploads/2017/02/contador_65-768x768.jpg 768w, http://pacifista.co/wp-content/uploads/2017/02/contador_65.jpg 1006w\" width=\"300\"/></h1>, <h1>64. Alfonso Pérez Mellizo</h1>, <h1><img alt=\"\" class=\"aligncenter wp-image-43089 size-medium\" height=\"300\" sizes=\"(max-width: 300px) 100vw, 300px\" src=\"http://pacifista.co/wp-content/uploads/2017/02/unnamed-1-300x300.jpg\" srcset=\"http://pacifista.co/wp-content/uploads/2017/02/unnamed-1-300x300.jpg 300w, http://pacifista.co/wp-content/uploads/2017/02/unnamed-1-150x150.jpg 150w, http://pacifista.co/wp-content/uploads/2017/02/unnamed-1-768x768.jpg 768w, http://pacifista.co/wp-content/uploads/2017/02/unnamed-1.jpg 1006w\" width=\"300\"/></h1>, <h1></h1>, <h1>63. José Rafael de la Hoz Villa</h1>, <h1><img alt=\"\" class=\"aligncenter wp-image-43035 size-medium\" height=\"300\" sizes=\"(max-width: 300px) 100vw, 300px\" src=\"http://pacifista.co/wp-content/uploads/2017/02/contador_63-300x300.jpg\" srcset=\"http://pacifista.co/wp-content/uploads/2017/02/contador_63-300x300.jpg 300w, http://pacifista.co/wp-content/uploads/2017/02/contador_63-150x150.jpg 150w, http://pacifista.co/wp-content/uploads/2017/02/contador_63-768x768.jpg 768w, http://pacifista.co/wp-content/uploads/2017/02/contador_63.jpg 1006w\" width=\"300\"/></h1>, <h1>62. Hernán Bedoya</h1>, <h1><img alt=\"\" class=\"aligncenter wp-image-42790 size-medium\" height=\"300\" sizes=\"(max-width: 300px) 100vw, 300px\" src=\"http://pacifista.co/wp-content/uploads/2017/02/contador_62-300x300.jpg\" srcset=\"http://pacifista.co/wp-content/uploads/2017/02/contador_62-300x300.jpg 300w, http://pacifista.co/wp-content/uploads/2017/02/contador_62-150x150.jpg 150w, http://pacifista.co/wp-content/uploads/2017/02/contador_62-768x768.jpg 768w, http://pacifista.co/wp-content/uploads/2017/02/contador_62.jpg 1006w\" width=\"300\"/></h1>, <h1>61. Luis Alfonso Giraldo</h1>, <h1><img alt=\"\" class=\"wp-image-42615 size-medium aligncenter\" height=\"300\" sizes=\"(max-width: 300px) 100vw, 300px\" src=\"http://pacifista.co/wp-content/uploads/2017/02/contador_61-300x300.jpg\" srcset=\"http://pacifista.co/wp-content/uploads/2017/02/contador_61-300x300.jpg 300w, http://pacifista.co/wp-content/uploads/2017/02/contador_61-150x150.jpg 150w, http://pacifista.co/wp-content/uploads/2017/02/contador_61-768x768.jpg 768w, http://pacifista.co/wp-content/uploads/2017/02/contador_61.jpg 1006w\" width=\"300\"/></h1>, <h1>60. Édison Marcial Ortiz Bolaños</h1>, <h1><img alt=\"\" class=\"aligncenter wp-image-42553 size-medium\" height=\"300\" sizes=\"(max-width: 300px) 100vw, 300px\" src=\"http://pacifista.co/wp-content/uploads/2017/02/unnamed-300x300.jpg\" srcset=\"http://pacifista.co/wp-content/uploads/2017/02/unnamed-300x300.jpg 300w, http://pacifista.co/wp-content/uploads/2017/02/unnamed-150x150.jpg 150w, http://pacifista.co/wp-content/uploads/2017/02/unnamed-768x768.jpg 768w, http://pacifista.co/wp-content/uploads/2017/02/unnamed.jpg 1006w\" width=\"300\"/></h1>, <h1>59. Mario Castaño</h1>, <h1>58. Mario Jacanamijoy</h1>, <h1>57.  Luz Yeni Montaño</h1>, <h1>56.  Aulio Isararama <strong>Forastero</strong></h1>, <h1>55.  Miguel Pérez</h1>, <h1><img alt=\"\" class=\"size-medium wp-image-40719 aligncenter\" height=\"300\" sizes=\"(max-width: 300px) 100vw, 300px\" src=\"http://pacifista.co/wp-content/uploads/2017/02/55-300x300.png\" srcset=\"http://pacifista.co/wp-content/uploads/2017/02/55-300x300.png 300w, http://pacifista.co/wp-content/uploads/2017/02/55-150x150.png 150w, http://pacifista.co/wp-content/uploads/2017/02/55-768x768.png 768w, http://pacifista.co/wp-content/uploads/2017/02/55-1024x1024.png 1024w, http://pacifista.co/wp-content/uploads/2017/02/55.png 1200w\" width=\"300\"/></h1>, <h1></h1>, <h1>54.  Liliana Patricia Cataño Montoya</h1>, <h1>53. José María Eliécer Carvajal <img alt=\"\" class=\"aligncenter wp-image-40538 size-medium\" height=\"300\" sizes=\"(max-width: 300px) 100vw, 300px\" src=\"http://pacifista.co/wp-content/uploads/2017/02/53-1-300x300.png\" srcset=\"http://pacifista.co/wp-content/uploads/2017/02/53-1-300x300.png 300w, http://pacifista.co/wp-content/uploads/2017/02/53-1-150x150.png 150w, http://pacifista.co/wp-content/uploads/2017/02/53-1-768x768.png 768w, http://pacifista.co/wp-content/uploads/2017/02/53-1-1024x1024.png 1024w, http://pacifista.co/wp-content/uploads/2017/02/53-1.png 1200w\" width=\"300\"/></h1>, <h1>52. José Jair Cortés</h1>, <h1> <img alt=\"\" class=\"size-medium wp-image-40441 aligncenter\" height=\"300\" sizes=\"(max-width: 300px) 100vw, 300px\" src=\"http://pacifista.co/wp-content/uploads/2017/02/52-1-300x300.png\" srcset=\"http://pacifista.co/wp-content/uploads/2017/02/52-1-300x300.png 300w, http://pacifista.co/wp-content/uploads/2017/02/52-1-150x150.png 150w, http://pacifista.co/wp-content/uploads/2017/02/52-1-768x768.png 768w, http://pacifista.co/wp-content/uploads/2017/02/52-1-1024x1024.png 1024w, http://pacifista.co/wp-content/uploads/2017/02/52-1.png 1200w\" width=\"300\"/></h1>, <h1>51. José Luis García Berrío</h1>, <h1>50. María Efigenia Vásquez Astudillo</h1>, <h1>49. Ezquivel Manyoma</h1>, <h1>48.  Jimy Humberto Medina</h1>, <h1>47.  Luis Fernando Gil</h1>, <h1><img alt=\"\" class=\"wp-image-39844 size-medium aligncenter\" height=\"300\" sizes=\"(max-width: 300px) 100vw, 300px\" src=\"http://pacifista.co/wp-content/uploads/2017/02/22219666_832327986927096_281676971697700742_o-300x300.png\" srcset=\"http://pacifista.co/wp-content/uploads/2017/02/22219666_832327986927096_281676971697700742_o-300x300.png 300w, http://pacifista.co/wp-content/uploads/2017/02/22219666_832327986927096_281676971697700742_o-150x150.png 150w, http://pacifista.co/wp-content/uploads/2017/02/22219666_832327986927096_281676971697700742_o-768x766.png 768w, http://pacifista.co/wp-content/uploads/2017/02/22219666_832327986927096_281676971697700742_o-1024x1021.png 1024w\" width=\"300\"/></h1>, <h1></h1>, <h1 style=\"text-align: center;\">46.  Carlos Mario Hincapié</h1>, <h1><img alt=\"\" class=\"wp-image-39796 size-medium aligncenter\" height=\"300\" sizes=\"(max-width: 300px) 100vw, 300px\" src=\"http://pacifista.co/wp-content/uploads/2017/02/contador_46_corregido-300x300.png\" srcset=\"http://pacifista.co/wp-content/uploads/2017/02/contador_46_corregido-300x300.png 300w, http://pacifista.co/wp-content/uploads/2017/02/contador_46_corregido-150x150.png 150w, http://pacifista.co/wp-content/uploads/2017/02/contador_46_corregido-768x768.png 768w, http://pacifista.co/wp-content/uploads/2017/02/contador_46_corregido-1024x1024.png 1024w, http://pacifista.co/wp-content/uploads/2017/02/contador_46_corregido.png 1200w\" width=\"300\"/></h1>, <h1></h1>, <h1>45. Manuel Ramírez Mosquera</h1>, <h1>44. Fernando Asprilla</h1>, <h1>43. Idalia Castillo Narváez</h1>, <h1>42. Nidio Dávila</h1>, <h1>41. Ezequiel Rangel</h1>, <h1><strong>40. Héctor William Mina</strong></h1>, <h1>39. Eugenio Rentería Martínez</h1>, <h1>38. Alberto Román Acosta</h1>, <h1><img alt=\"\" class=\"aligncenter wp-image-36209 size-medium\" height=\"300\" sizes=\"(max-width: 300px) 100vw, 300px\" src=\"http://pacifista.co/wp-content/uploads/2017/07/contador-asesinatos_38-300x300.png\" srcset=\"http://pacifista.co/wp-content/uploads/2017/07/contador-asesinatos_38-300x300.png 300w, http://pacifista.co/wp-content/uploads/2017/07/contador-asesinatos_38-150x150.png 150w, http://pacifista.co/wp-content/uploads/2017/07/contador-asesinatos_38-768x768.png 768w, http://pacifista.co/wp-content/uploads/2017/07/contador-asesinatos_38-1024x1024.png 1024w, http://pacifista.co/wp-content/uploads/2017/07/contador-asesinatos_38.png 1200w\" width=\"300\"/></h1>, <h1>37. Manuel Fernando Vélez López</h1>, <h1>35. Álvaro Arturo Tenorio Cabezas</h1>, <h1>34. Mario Andrés Calle Correa</h1>, <h1>33. Jorge Chantre Achipiz</h1>, <h1>32. Diego Fernando Rodríguez</h1>, <h1><strong>31. Gerson Acosta</strong></h1>, <h1><strong>30. Rubiela Sánchez Vanegas</strong></h1>, <h1>29. Eliver Buitrago</h1>, <h1>28. Alvenio Rosero</h1>, <h1>27. Javier Oteca</h1>, <h1>25 y 26. Luz Ángela Anzola y José Antonio Anzola</h1>, <h1>24. Fabián Rivera</h1>, <h1><strong>23. Alicia López Guisao</strong></h1>, <h1>22. Eider Cuetía Conda</h1>, <h1>21. Wilfredy Gómez Noreña</h1>, <h1>20. Faiver Cerón Gómez</h1>, <h1>19. Luz Herminia Olarte</h1>, <h1>18. Edilberto Cantillo</h1>, <h1>17. Porfirio Jaramillo</h1>, <h1>16. Yoryanis Isabel Bernal</h1>, <h1>15. Hernán Agames</h1>, <h1>14. Emilsen Manyoma</h1>, <h1>13. José Yimer Cartagena</h1>, <h1>12. Juan Mosquera</h1>, <h1>11. Yaneth Calvache</h1>, <h1>10. Aldemar Parra</h1>, <h1>9. Olmedo Pito</h1>, <h1>8. Anuar Álvarez</h1>, <h1>7. Guillermo Veldaño</h1>, <h1>6. Éder Mangones</h1>, <h1>5. Nataly Salas</h1>, <h1>4. José Abdón Hoyos</h1>, <h1>3. Samir López</h1>, <h1>2. Luis Carlos Tenorio</h1>, <h1>1. Vicente Borrego</h1>]\n"
     ]
    }
   ],
   "source": [
    "# Finding all <h1> tags that include the victims names\n",
    "h1_results = soup.findAll('h1', attrs={'class': None})\n",
    "print(h1_results)"
   ]
  },
  {
   "cell_type": "code",
   "execution_count": 103,
   "metadata": {},
   "outputs": [
    {
     "name": "stdout",
     "output_type": "stream",
     "text": [
      "67. Mario Dumar Rojas\n"
     ]
    }
   ],
   "source": [
    "#Previewing tag contents\n",
    "print(h1_results[37].string)"
   ]
  },
  {
   "cell_type": "code",
   "execution_count": 78,
   "metadata": {},
   "outputs": [],
   "source": [
    "#Filtering the list of <h1> tags and save it to a data frame\n",
    "h1_f = []\n",
    "for h1 in h1_results:\n",
    "    if h1.find('img') != None or len(h1.contents) == 0:\n",
    "        continue\n",
    "    else: \n",
    "        h1_f.append(h1.string)\n",
    "\n",
    "df = pd.DataFrame(h1_f, columns=['raw'])"
   ]
  },
  {
   "cell_type": "code",
   "execution_count": 79,
   "metadata": {},
   "outputs": [
    {
     "name": "stdout",
     "output_type": "stream",
     "text": [
      "                                                 raw\n",
      "0                                 91. Yeison Ramírez\n",
      "1                                    90. Leidy Amaya\n",
      "2                             89. Carlos Jimmy Prado\n",
      "3                           88.  Gabriel Muñoz Muñoz\n",
      "4                                    87. Ramón Ascue\n",
      "5                      86. Hugo Albeiro George Pérez\n",
      "6                        85. María del Carmen Moreno\n",
      "7                     84. James Luis Jiménez Estrada\n",
      "8                         83. Wilson Arnuflo Quetama\n",
      "9                    82. Belisario Benavides Ordóñez\n",
      "10                    81. María Magdalena Cruz Rojas\n",
      "11                                  80. José Herrera\n",
      "12                                     79. Juan Mena\n",
      "13                                 78. Tomás Barreto\n",
      "14                              77.Elkin Fabián Toro\n",
      "15                  76. Jesús Orlando Grueso Obregón\n",
      "16                            75. Sandra Yaneth Luna\n",
      "17                                              None\n",
      "18                             73. Nixon Mutis Sossa\n",
      "19                           72. Temístocles Machado\n",
      "20                        71. Eleazar Tequia Bitucay\n",
      "21                                70. Fares Carabalí\n",
      "22                           68.Víctor Manuel Morato\n",
      "23                             67. Mario Dumar Rojas\n",
      "24                        66. Guillermo Javier Artuz\n",
      "25                                  65. Pablo Oviedo\n",
      "26                         64. Alfonso Pérez Mellizo\n",
      "27                   63. José Rafael de la Hoz Villa\n",
      "28                                 62. Hernán Bedoya\n",
      "29                          61. Luis Alfonso Giraldo\n",
      "..                                               ...\n",
      "57                                 31. Gerson Acosta\n",
      "58                       30. Rubiela Sánchez Vanegas\n",
      "59                               29. Eliver Buitrago\n",
      "60                                28. Alvenio Rosero\n",
      "61                                  27. Javier Oteca\n",
      "62  25 y 26. Luz Ángela Anzola y José Antonio Anzola\n",
      "63                                 24. Fabián Rivera\n",
      "64                           23. Alicia López Guisao\n",
      "65                            22. Eider Cuetía Conda\n",
      "66                         21. Wilfredy Gómez Noreña\n",
      "67                            20. Faiver Cerón Gómez\n",
      "68                           19. Luz Herminia Olarte\n",
      "69                            18. Edilberto Cantillo\n",
      "70                            17. Porfirio Jaramillo\n",
      "71                        16. Yoryanis Isabel Bernal\n",
      "72                                 15. Hernán Agames\n",
      "73                               14. Emilsen Manyoma\n",
      "74                          13. José Yimer Cartagena\n",
      "75                                 12. Juan Mosquera\n",
      "76                               11. Yaneth Calvache\n",
      "77                                 10. Aldemar Parra\n",
      "78                                    9. Olmedo Pito\n",
      "79                                  8. Anuar Álvarez\n",
      "80                              7. Guillermo Veldaño\n",
      "81                                  6. Éder Mangones\n",
      "82                                   5. Nataly Salas\n",
      "83                               4. José Abdón Hoyos\n",
      "84                                    3. Samir López\n",
      "85                            2. Luis Carlos Tenorio\n",
      "86                                1. Vicente Borrego\n",
      "\n",
      "[87 rows x 1 columns]\n"
     ]
    }
   ],
   "source": [
    "print(df)"
   ]
  },
  {
   "cell_type": "code",
   "execution_count": 104,
   "metadata": {},
   "outputs": [
    {
     "data": {
      "text/html": [
       "<div>\n",
       "<style scoped>\n",
       "    .dataframe tbody tr th:only-of-type {\n",
       "        vertical-align: middle;\n",
       "    }\n",
       "\n",
       "    .dataframe tbody tr th {\n",
       "        vertical-align: top;\n",
       "    }\n",
       "\n",
       "    .dataframe thead th {\n",
       "        text-align: right;\n",
       "    }\n",
       "</style>\n",
       "<table border=\"1\" class=\"dataframe\">\n",
       "  <thead>\n",
       "    <tr style=\"text-align: right;\">\n",
       "      <th></th>\n",
       "      <th>raw</th>\n",
       "      <th>Number</th>\n",
       "      <th>Name</th>\n",
       "    </tr>\n",
       "  </thead>\n",
       "  <tbody>\n",
       "    <tr>\n",
       "      <th>0</th>\n",
       "      <td>91. Yeison Ramírez</td>\n",
       "      <td>91</td>\n",
       "      <td>Yeison Ramírez</td>\n",
       "    </tr>\n",
       "    <tr>\n",
       "      <th>1</th>\n",
       "      <td>90. Leidy Amaya</td>\n",
       "      <td>90</td>\n",
       "      <td>Leidy Amaya</td>\n",
       "    </tr>\n",
       "    <tr>\n",
       "      <th>2</th>\n",
       "      <td>89. Carlos Jimmy Prado</td>\n",
       "      <td>89</td>\n",
       "      <td>Carlos Jimmy Prado</td>\n",
       "    </tr>\n",
       "    <tr>\n",
       "      <th>3</th>\n",
       "      <td>88.  Gabriel Muñoz Muñoz</td>\n",
       "      <td>88</td>\n",
       "      <td>Gabriel Muñoz Muñoz</td>\n",
       "    </tr>\n",
       "    <tr>\n",
       "      <th>4</th>\n",
       "      <td>87. Ramón Ascue</td>\n",
       "      <td>87</td>\n",
       "      <td>Ramón Ascue</td>\n",
       "    </tr>\n",
       "  </tbody>\n",
       "</table>\n",
       "</div>"
      ],
      "text/plain": [
       "                        raw Number                 Name\n",
       "0        91. Yeison Ramírez     91       Yeison Ramírez\n",
       "1           90. Leidy Amaya     90          Leidy Amaya\n",
       "2    89. Carlos Jimmy Prado     89   Carlos Jimmy Prado\n",
       "3  88.  Gabriel Muñoz Muñoz     88  Gabriel Muñoz Muñoz\n",
       "4           87. Ramón Ascue     87          Ramón Ascue"
      ]
     },
     "execution_count": 104,
     "metadata": {},
     "output_type": "execute_result"
    }
   ],
   "source": [
    "# Extract number and name string individually using regex\n",
    "df['Number'] = df['raw'].str.extract('(\\d+)')\n",
    "df['Name'] = df['raw'].str.extract('(([A-Za-zá-úÁ-Ú]+\\s?)+)')\n",
    "df = df.dropna()\n",
    "df.head()"
   ]
  },
  {
   "cell_type": "code",
   "execution_count": 99,
   "metadata": {},
   "outputs": [],
   "source": [
    "# Save to a .csv file\n",
    "df.to_csv('victims_list_raw.csv')"
   ]
  }
 ],
 "metadata": {
  "kernelspec": {
   "display_name": "Python 3",
   "language": "python",
   "name": "python3"
  },
  "language_info": {
   "codemirror_mode": {
    "name": "ipython",
    "version": 3
   },
   "file_extension": ".py",
   "mimetype": "text/x-python",
   "name": "python",
   "nbconvert_exporter": "python",
   "pygments_lexer": "ipython3",
   "version": "3.6.5"
  }
 },
 "nbformat": 4,
 "nbformat_minor": 2
}
